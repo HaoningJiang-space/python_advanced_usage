{
 "cells": [
  {
   "cell_type": "code",
   "execution_count": 1,
   "metadata": {},
   "outputs": [
    {
     "name": "stderr",
     "output_type": "stream",
     "text": [
      "logger warn 信息\n",
      "logger error 信息\n",
      "logger critical 信息\n"
     ]
    },
    {
     "name": "stdout",
     "output_type": "stream",
     "text": [
      "10\n"
     ]
    }
   ],
   "source": [
    "import logging\n",
    "# 创建Logger\n",
    "\n",
    "logger = logging.getLogger()\n",
    "logger.setLevel(logging.DEBUG)\n",
    "print(logger.getEffectiveLevel())\n",
    "logger.debug('logger debug 信息')\n",
    "logger.info('logger info 信息')\n",
    "logger.warning('logger warn 信息')\n",
    "logger.error('logger error 信息')\n",
    "logger.critical('logger critical 信息')\n",
    "logger.debug('logger %s 是自定义信息' % '这些东西')\n",
    "\n",
    "# 输出结果:\n",
    "# 10\n",
    "# logger warn 信息\n",
    "# logger error 信息\n",
    "# logger critical 信息\n"
   ]
  },
  {
   "cell_type": "code",
   "execution_count": 2,
   "metadata": {},
   "outputs": [
    {
     "name": "stderr",
     "output_type": "stream",
     "text": [
      "logger error 信息\n",
      "logger critical 信息\n"
     ]
    },
    {
     "name": "stdout",
     "output_type": "stream",
     "text": [
      "40\n"
     ]
    }
   ],
   "source": [
    "import logging\n",
    "# 创建Logger\n",
    "\n",
    "logger = logging.getLogger()\n",
    "logger.setLevel(logging.ERROR)\t#修改权限\n",
    "print(logger.getEffectiveLevel())\n",
    "logger.debug('logger debug 信息')\n",
    "logger.info('logger info 信息')\n",
    "logger.warning('logger warn 信息')\n",
    "logger.error('logger error 信息')\n",
    "logger.critical('logger critical 信息')\n",
    "logger.debug('logger %s 是自定义信息' % '这些东西')\n",
    "\n",
    "#输出结果:\n",
    "# 40\n",
    "# logger error 信息\n",
    "# logger critical 信息\n"
   ]
  },
  {
   "cell_type": "code",
   "execution_count": 3,
   "metadata": {},
   "outputs": [
    {
     "name": "stderr",
     "output_type": "stream",
     "text": [
      "INFO:root:info 信息\n",
      "WARNING:root:warn 信息\n",
      "ERROR:root:error 信息\n",
      "CRITICAL:root:critical 信息\n",
      "DEBUG:root:这些东西 是自定义信息\n"
     ]
    }
   ],
   "source": [
    "import logging\n",
    "logging.getLogger().setLevel(logging.DEBUG)\n",
    "logging.info('info 信息')\n",
    "logging.warning('warn 信息')\n",
    "logging.error('error 信息')\n",
    "logging.critical('critical 信息')\n",
    "logging.debug('%s 是自定义信息' % '这些东西')\n",
    "\n",
    "# 输出结果:\n",
    "# DEBUG:root:debug 信息\n",
    "# INFO:root:info 信息\n",
    "# WARNING:root:warn 信息\n",
    "# ERROR:root:error 信息\n",
    "# CRITICAL:root:critical 信息\n",
    "# DEBUG:root:这些东西 是自定义信息\n"
   ]
  }
 ],
 "metadata": {
  "kernelspec": {
   "display_name": "pycell",
   "language": "python",
   "name": "python3"
  },
  "language_info": {
   "codemirror_mode": {
    "name": "ipython",
    "version": 3
   },
   "file_extension": ".py",
   "mimetype": "text/x-python",
   "name": "python",
   "nbconvert_exporter": "python",
   "pygments_lexer": "ipython3",
   "version": "3.11.5"
  }
 },
 "nbformat": 4,
 "nbformat_minor": 2
}
